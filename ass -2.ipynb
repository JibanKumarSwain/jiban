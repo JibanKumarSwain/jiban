{
 "cells": [
  {
   "cell_type": "code",
   "execution_count": 7,
   "metadata": {},
   "outputs": [
    {
     "name": "stdout",
     "output_type": "stream",
     "text": [
      "enter three numbers\n",
      "6 5 2\n",
      "6 5 2\n",
      "x is the largest number among them 6\n"
     ]
    }
   ],
   "source": [
    "#Q 02.Enter three integers (i)print the largest of the three.\n",
    "x, y, z = input(\"enter three numbers\\n\").split(\" \")\n",
    "print(f\"{x} {y} {z}\")\n",
    "if (x >= y and x >= z):\n",
    "    print(\"x is the largest number among them\", x)\n",
    "elif (y >= z):\n",
    "    print(\"y is largest number among them\", y)\n",
    "else:\n",
    "    print(\"z is the largest number among them\", z)\n"
   ]
  },
  {
   "cell_type": "code",
   "execution_count": 14,
   "metadata": {},
   "outputs": [
    {
     "name": "stdout",
     "output_type": "stream",
     "text": [
      "enter the 1st number10\n",
      "enter the 2nd number20\n",
      "enter the 3rd number30\n",
      "60\n"
     ]
    }
   ],
   "source": [
    "  #(ii)sum of all inputs.\n",
    "  x=int(input(\"enter the 1st number\"))\n",
    "  y=int(input(\"enter the 2nd number\"))\n",
    "  z=int(input(\"enter the 3rd number\"))\n",
    "  A=x+y+z\n",
    "  print(A)"
   ]
  },
  {
   "cell_type": "code",
   "execution_count": 21,
   "metadata": {},
   "outputs": [
    {
     "ename": "IndentationError",
     "evalue": "unexpected indent (<ipython-input-21-f05e65ce3bb3>, line 3)",
     "output_type": "error",
     "traceback": [
      "\u001b[1;36m  File \u001b[1;32m\"<ipython-input-21-f05e65ce3bb3>\"\u001b[1;36m, line \u001b[1;32m3\u001b[0m\n\u001b[1;33m    x=int(input(\"enter the 1st number\"))\u001b[0m\n\u001b[1;37m    ^\u001b[0m\n\u001b[1;31mIndentationError\u001b[0m\u001b[1;31m:\u001b[0m unexpected indent\n"
     ]
    }
   ],
   "source": [
    " #(iii)sum of non-duplicate number\n",
    " \n",
    "  x=int(input(\"enter the 1st number\"))\n",
    "  y=int(input(\"enter the 2nd number\"))\n",
    "  z=int(input(\"enter the 3rd number\"))\n",
    "  if(x !=y and y != z and ! =z):\n",
    "     A=x+y+z\n",
    "     print(A)\n",
    "  elif (x==y==z):\n",
    "     print('sum is=',0)\n",
    "  elif (x==y):\n",
    "     print('sum is=',z)\n",
    "  elif (y==z):\n",
    "     print('sum is=',x)\n",
    "  elif (x==z):\n",
    "     print('sum is=',y)\n",
    "     "
   ]
  },
  {
   "cell_type": "code",
   "execution_count": null,
   "metadata": {},
   "outputs": [],
   "source": []
  }
 ],
 "metadata": {
  "kernelspec": {
   "display_name": "Python 3",
   "language": "python",
   "name": "python3"
  }
 },
 "nbformat": 4,
 "nbformat_minor": 2
}
